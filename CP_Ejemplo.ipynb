{
  "nbformat": 4,
  "nbformat_minor": 0,
  "metadata": {
    "colab": {
      "name": "CP_Ejemplo.ipynb",
      "provenance": [],
      "authorship_tag": "ABX9TyNmcTlWpG8tgppWgqV4gu7b",
      "include_colab_link": true
    },
    "kernelspec": {
      "name": "python3",
      "display_name": "Python 3"
    },
    "language_info": {
      "name": "python"
    }
  },
  "cells": [
    {
      "cell_type": "markdown",
      "metadata": {
        "id": "view-in-github",
        "colab_type": "text"
      },
      "source": [
        "<a href=\"https://colab.research.google.com/github/FKevin24/Auditoria/blob/main/CP_Ejemplo.ipynb\" target=\"_parent\"><img src=\"https://colab.research.google.com/assets/colab-badge.svg\" alt=\"Open In Colab\"/></a>"
      ]
    },
    {
      "cell_type": "code",
      "execution_count": 1,
      "metadata": {
        "colab": {
          "base_uri": "https://localhost:8080/"
        },
        "id": "Xj4WUBLj4g_T",
        "outputId": "e46561bd-839f-468d-8a3c-75e51f97b98f"
      },
      "outputs": [
        {
          "output_type": "stream",
          "name": "stdout",
          "text": [
            "Looking in indexes: https://pypi.org/simple, https://us-python.pkg.dev/colab-wheels/public/simple/\n",
            "Collecting ortools\n",
            "  Downloading ortools-9.3.10497-cp37-cp37m-manylinux_2_17_x86_64.manylinux2014_x86_64.whl (15.5 MB)\n",
            "\u001b[K     |████████████████████████████████| 15.5 MB 5.1 MB/s \n",
            "\u001b[?25hRequirement already satisfied: absl-py>=0.13 in /usr/local/lib/python3.7/dist-packages (from ortools) (1.1.0)\n",
            "Requirement already satisfied: numpy>=1.13.3 in /usr/local/lib/python3.7/dist-packages (from ortools) (1.21.6)\n",
            "Collecting protobuf>=3.19.4\n",
            "  Downloading protobuf-4.21.1-cp37-abi3-manylinux2014_x86_64.whl (407 kB)\n",
            "\u001b[K     |████████████████████████████████| 407 kB 47.4 MB/s \n",
            "\u001b[?25hInstalling collected packages: protobuf, ortools\n",
            "  Attempting uninstall: protobuf\n",
            "    Found existing installation: protobuf 3.17.3\n",
            "    Uninstalling protobuf-3.17.3:\n",
            "      Successfully uninstalled protobuf-3.17.3\n",
            "\u001b[31mERROR: pip's dependency resolver does not currently take into account all the packages that are installed. This behaviour is the source of the following dependency conflicts.\n",
            "tensorflow 2.8.2+zzzcolab20220527125636 requires protobuf<3.20,>=3.9.2, but you have protobuf 4.21.1 which is incompatible.\n",
            "tensorflow-metadata 1.8.0 requires protobuf<4,>=3.13, but you have protobuf 4.21.1 which is incompatible.\n",
            "googleapis-common-protos 1.56.2 requires protobuf<4.0.0dev,>=3.15.0, but you have protobuf 4.21.1 which is incompatible.\n",
            "google-cloud-bigquery-storage 1.1.2 requires protobuf<4.0.0dev, but you have protobuf 4.21.1 which is incompatible.\n",
            "google-api-core 1.31.6 requires protobuf<4.0.0dev,>=3.12.0; python_version > \"3\", but you have protobuf 4.21.1 which is incompatible.\u001b[0m\n",
            "Successfully installed ortools-9.3.10497 protobuf-4.21.1\n"
          ]
        }
      ],
      "source": [
        "!pip install ortools"
      ]
    },
    {
      "cell_type": "code",
      "source": [
        "from ortools.sat.python import cp_model\n",
        "#Crear un CP - CSP\n",
        "model = cp_model.CpModel()\n",
        "#varialbes y dominios\n",
        "x = model.NewIntVar(0,2,'x')\n",
        "y = model.NewIntVar(0,2,'y')\n",
        "z = model.NewIntVar(0,2,'z')\n",
        "#Restricciones\n",
        "model.Add(x != y)\n",
        "model.Add(z > y)\n"
      ],
      "metadata": {
        "colab": {
          "base_uri": "https://localhost:8080/"
        },
        "id": "g-GqOAy-5Fxi",
        "outputId": "df3f3365-fefe-4813-e3f7-ccc3cf33e1bb"
      },
      "execution_count": 2,
      "outputs": [
        {
          "output_type": "execute_result",
          "data": {
            "text/plain": [
              "<ortools.sat.python.cp_model.Constraint at 0x7f241d42ce50>"
            ]
          },
          "metadata": {},
          "execution_count": 2
        }
      ]
    },
    {
      "cell_type": "code",
      "source": [
        "#Crear solver\n",
        "solver = cp_model.CpSolver()\n",
        "status = solver.Solve(model)\n",
        "if status == cp_model.OPTIMAL:\n",
        "  print('x = {}'.format(solver.Value(x)))\n",
        "  print('y = {}'.format(solver.Value(y)))\n",
        "  print('z = {}'.format(solver.Value(z)))"
      ],
      "metadata": {
        "colab": {
          "base_uri": "https://localhost:8080/"
        },
        "id": "vjD8FdyH7DhG",
        "outputId": "df776f32-d9f8-43b4-addb-6a33e8ea5bfa"
      },
      "execution_count": 3,
      "outputs": [
        {
          "output_type": "stream",
          "name": "stdout",
          "text": [
            "x = 1\n",
            "y = 0\n",
            "z = 1\n"
          ]
        }
      ]
    },
    {
      "cell_type": "code",
      "source": [
        "class VarArraySolutionPrinter(cp_model.CpSolverSolutionCallback):\n",
        "    \"\"\"Print intermediate solutions.\"\"\"\n",
        "\n",
        "    def __init__(self, variables):\n",
        "        cp_model.CpSolverSolutionCallback.__init__(self)\n",
        "        self.__variables = variables\n",
        "        self.__solution_count = 0\n",
        "\n",
        "    def on_solution_callback(self):\n",
        "        self.__solution_count += 1\n",
        "        for v in self.__variables:\n",
        "            print('%s=%i' % (v, self.Value(v)), end=' ')\n",
        "        print()\n",
        "\n",
        "    def solution_count(self):\n",
        "        return self.__solution_count"
      ],
      "metadata": {
        "id": "6REvWgEn-ddC"
      },
      "execution_count": 4,
      "outputs": []
    },
    {
      "cell_type": "code",
      "source": [
        "solver = cp_model.CpSolver()\n",
        "solution_printer = VarArraySolutionPrinter([x, y, z])\n",
        "# Enumerate all solutions.\n",
        "solver.parameters.enumerate_all_solutions = True\n",
        "# Solve.\n",
        "status = solver.Solve(model, solution_printer)"
      ],
      "metadata": {
        "colab": {
          "base_uri": "https://localhost:8080/"
        },
        "id": "AMzIn2I1-8tp",
        "outputId": "91fab084-2391-453e-9c80-22ab2ea179b6"
      },
      "execution_count": 5,
      "outputs": [
        {
          "output_type": "stream",
          "name": "stdout",
          "text": [
            "x=2 y=1 z=2 \n",
            "x=0 y=1 z=2 \n",
            "x=1 y=0 z=1 \n",
            "x=2 y=0 z=1 \n",
            "x=2 y=0 z=2 \n",
            "x=1 y=0 z=2 \n"
          ]
        }
      ]
    }
  ]
}